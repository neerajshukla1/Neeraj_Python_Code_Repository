{
 "cells": [
  {
   "cell_type": "code",
   "execution_count": 1,
   "metadata": {},
   "outputs": [
    {
     "name": "stdout",
     "output_type": "stream",
     "text": [
      "Type your First NameNeeraj\n",
      "Hello Neeraj\n",
      "this string\n",
      " has been split\n",
      " several times\n",
      "1\t2\t3\t4\t5\t6\n"
     ]
    }
   ],
   "source": [
    "greeting = \"Hello\"\n",
    "Name = input(\"Type your First Name\")\n",
    "print(greeting + \" \" + Name)\n",
    "\n",
    "splitstring = \"this string\\n has been split\\n several times\" # \\n for new LINE\n",
    "print(splitstring)\n",
    "\n",
    "tabbedstring = \"1\\t2\\t3\\t4\\t5\\t6\" # \\t for tabs\n",
    "print(tabbedstring)"
   ]
  },
  {
   "cell_type": "code",
   "execution_count": 2,
   "metadata": {},
   "outputs": [
    {
     "name": "stdout",
     "output_type": "stream",
     "text": [
      "The Pet Shop owner said \"No, No 'e's uh..... he's resting\" \n",
      "The Pet Shop owner said \"No, No 'e's uh..... he's resting\"\n",
      "\n",
      "This string \n",
      "has been split\n",
      "over several lines\n"
     ]
    }
   ],
   "source": [
    "# Notice the use of single and double quotes along with escape characters\n",
    "print('The Pet Shop owner said \"No, No \\'e\\'s uh..... he\\'s resting\" ')\n",
    "print(\"The Pet Shop owner said \\\"No, No 'e's uh..... he\\'s resting\\\"\")\n",
    "\n",
    "# here 3 \"\"\" are used to split string across different lines\n",
    "splitstring = \"\"\"\\nThis string \n",
    "has been split\n",
    "over several lines\"\"\"  # \\n for new LINE\n",
    "\n",
    "print(splitstring)"
   ]
  },
  {
   "cell_type": "code",
   "execution_count": 3,
   "metadata": {},
   "outputs": [
    {
     "name": "stdout",
     "output_type": "stream",
     "text": [
      "The Pet Shop owner said \"No, No 'e's uh..... he's resting\" \n",
      "The Pet Shop owner said \"No, No 'e's uh..... he's resting\" \n"
     ]
    }
   ],
   "source": [
    "# Notice the use of  3 single / double quotes\n",
    "print('''The Pet Shop owner said \"No, No 'e's uh..... he's resting\" ''')\n",
    "print(\"\"\"The Pet Shop owner said \"No, No 'e's uh..... he's resting\" \"\"\")"
   ]
  },
  {
   "cell_type": "code",
   "execution_count": 4,
   "metadata": {},
   "outputs": [
    {
     "name": "stdout",
     "output_type": "stream",
     "text": [
      "Number 1\tThe Larch\n",
      "Number 2\tThe Horse Chestnut\n"
     ]
    }
   ],
   "source": [
    "# Exercise example\n",
    "print ('''Number 1\\tThe Larch\n",
    "Number 2\\tThe Horse Chestnut''') "
   ]
  }
 ],
 "metadata": {
  "kernelspec": {
   "display_name": "Python 3",
   "language": "python",
   "name": "python3"
  },
  "language_info": {
   "codemirror_mode": {
    "name": "ipython",
    "version": 3
   },
   "file_extension": ".py",
   "mimetype": "text/x-python",
   "name": "python",
   "nbconvert_exporter": "python",
   "pygments_lexer": "ipython3",
   "version": "3.6.4"
  }
 },
 "nbformat": 4,
 "nbformat_minor": 2
}
