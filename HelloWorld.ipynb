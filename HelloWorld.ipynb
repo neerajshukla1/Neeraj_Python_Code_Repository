{
 "cells": [
  {
   "cell_type": "code",
   "execution_count": 1,
   "metadata": {},
   "outputs": [
    {
     "name": "stdout",
     "output_type": "stream",
     "text": [
      "Hello World\n",
      "3\n",
      "42\n",
      "\n",
      "The End\n",
      "Python's strings are easy to use\n",
      "we can include \"quotes\" in strings\n"
     ]
    }
   ],
   "source": [
    "print('Hello World')\n",
    "print(1 + 2)\n",
    "print(7 * 6)\n",
    "print()\n",
    "print(\"The End\")\n",
    "print(\"Python's strings are easy to use\")\n",
    "print('we can include \"quotes\" in strings') # both single * double quotes are allowed in Python\n",
    "                                            # Start with one quote type to include other"
   ]
  },
  {
   "cell_type": "code",
   "execution_count": 2,
   "metadata": {},
   "outputs": [
    {
     "name": "stdout",
     "output_type": "stream",
     "text": [
      "hello world\n",
      "HelloNeeraj\n",
      "Hello Neeraj\n"
     ]
    }
   ],
   "source": [
    "print(\"hello\" + \" world\")\n",
    "greeting = \"Hello\"\n",
    "name = \"Neeraj\"\n",
    "print(greeting + name)\n",
    "# if we want space we can add that too\n",
    "print(greeting + \" \" + name)"
   ]
  }
 ],
 "metadata": {
  "kernelspec": {
   "display_name": "Python 3",
   "language": "python",
   "name": "python3"
  },
  "language_info": {
   "codemirror_mode": {
    "name": "ipython",
    "version": 3
   },
   "file_extension": ".py",
   "mimetype": "text/x-python",
   "name": "python",
   "nbconvert_exporter": "python",
   "pygments_lexer": "ipython3",
   "version": "3.6.4"
  }
 },
 "nbformat": 4,
 "nbformat_minor": 2
}
