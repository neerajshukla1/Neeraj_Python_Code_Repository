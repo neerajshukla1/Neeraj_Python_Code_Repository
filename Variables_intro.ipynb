{
 "cells": [
  {
   "cell_type": "markdown",
   "metadata": {},
   "source": [
    "# notice different ways of declaring a Variable"
   ]
  },
  {
   "cell_type": "code",
   "execution_count": 1,
   "metadata": {},
   "outputs": [],
   "source": [
    "def a11(): print('********************')"
   ]
  },
  {
   "cell_type": "code",
   "execution_count": 2,
   "metadata": {},
   "outputs": [
    {
     "name": "stdout",
     "output_type": "stream",
     "text": [
      "Hello Neeraj\n",
      "29\n"
     ]
    }
   ],
   "source": [
    "greeting = \"Hello\"\n",
    "Greeting = \"Hello\"  # Notice variables are case sensitive\n",
    "_myName = \"Neeraj\"\n",
    "abcd12 = \"Good\"\n",
    "a_12 = \"There\"\n",
    "\n",
    "print(greeting + \" \" + _myName)\n",
    "\n",
    "age = 29\n",
    "print(age)"
   ]
  },
  {
   "cell_type": "code",
   "execution_count": 3,
   "metadata": {},
   "outputs": [
    {
     "name": "stdout",
     "output_type": "stream",
     "text": [
      "********************\n",
      "Integer Datatype =>\n",
      "15\n",
      "9\n",
      "36\n",
      "4.0\n",
      "4\n",
      "0\n"
     ]
    }
   ],
   "source": [
    "a11()\n",
    "\n",
    "# this is not allowed since we are trying to\n",
    "# concatenate string with number\n",
    "# print(_myName +  \"'s age is \" + age )\n",
    "\n",
    "# Python Data Types\n",
    "print('Integer Datatype =>')\n",
    "a = 12\n",
    "b = 3\n",
    "\n",
    "print(a + b)\n",
    "print(a - b)\n",
    "print(a * b)\n",
    "print(a / b)    # returns a floating point number => 4.0\n",
    "print(a // b)   # to return a whole number => 4 (see example below)\n",
    "print(a % b)    # Remainder or Mode"
   ]
  },
  {
   "cell_type": "code",
   "execution_count": 4,
   "metadata": {},
   "outputs": [
    {
     "name": "stdout",
     "output_type": "stream",
     "text": [
      "********************\n",
      "1\n",
      "2\n",
      "3\n",
      "********************\n",
      "Solution 1 =>\n",
      "0.6000000000000005\n",
      "6.0\n",
      "********************\n",
      "Solution 2 =>\n",
      "6.0\n"
     ]
    }
   ],
   "source": [
    "a11()\n",
    "\n",
    "for i in range(1, a//b):\n",
    "    print(i)\n",
    "\n",
    "a11()\n",
    "# Exercise problem\n",
    "# How many buns will the customer get if\n",
    "# each bun was worth 2.40 cents and he/she\n",
    "# had 15$. Give a number of buns that can be\n",
    "# bought without cutting / dividing a single bun\n",
    "bun_price = 2.40\n",
    "money = 15\n",
    "\n",
    "print('Solution 1 =>')\n",
    "rem = (money % bun_price)\n",
    "print(rem)\n",
    "\n",
    "buns = ((money - rem) / bun_price)\n",
    "print(buns)\n",
    "\n",
    "a11()\n",
    "print('Solution 2 =>')\n",
    "buns2 = money // bun_price\n",
    "print(buns2)"
   ]
  }
 ],
 "metadata": {
  "kernelspec": {
   "display_name": "Python 3",
   "language": "python",
   "name": "python3"
  },
  "language_info": {
   "codemirror_mode": {
    "name": "ipython",
    "version": 3
   },
   "file_extension": ".py",
   "mimetype": "text/x-python",
   "name": "python",
   "nbconvert_exporter": "python",
   "pygments_lexer": "ipython3",
   "version": "3.6.4"
  }
 },
 "nbformat": 4,
 "nbformat_minor": 2
}
