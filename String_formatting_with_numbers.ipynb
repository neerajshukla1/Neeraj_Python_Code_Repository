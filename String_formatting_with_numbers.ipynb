{
 "cells": [
  {
   "cell_type": "code",
   "execution_count": 1,
   "metadata": {},
   "outputs": [],
   "source": [
    "def a11(): print('********************')"
   ]
  },
  {
   "cell_type": "code",
   "execution_count": 2,
   "metadata": {},
   "outputs": [
    {
     "name": "stdout",
     "output_type": "stream",
     "text": [
      "********************\n",
      "String formatting with numbers =>\n",
      "My age is 29 years\n",
      "My age is 29 years\n"
     ]
    }
   ],
   "source": [
    "a11()\n",
    "print('String formatting with numbers =>')\n",
    "\n",
    "age = 29\n",
    "print('My age is ' + str(age) + ' years')  # Str function converts into to String\n",
    "\n",
    "# The above manual conversion can be done when there is a\n",
    "# single value to be converted but when there are multiple\n",
    "# values to be converted for printing we use =>\n",
    "# 'String Replacement formatting' here's how it is done\n",
    "\n",
    "print('My age is {0}'.format(age) + ' years')  # this automatically formats the variable value to the required data type"
   ]
  },
  {
   "cell_type": "code",
   "execution_count": 3,
   "metadata": {},
   "outputs": [
    {
     "name": "stdout",
     "output_type": "stream",
     "text": [
      "********************\n",
      "There are 31 days in Jan,Mar,May,Jul,Aug,Oct,Dec\n",
      "   \n",
      "            January: 31\n",
      "            February: 28\n",
      "            March: 31\n",
      "            April: 30\n",
      "            May: 31\n",
      "            June: 30\n",
      "            July: 31\n",
      "            August: 31\n",
      "            September: 30\n",
      "            October: 31\n",
      "            November: 30\n",
      "            December: 31\n"
     ]
    }
   ],
   "source": [
    "a11()\n",
    "print('There are {0} days in {1},{2},{3},{4},{5},{6},{7}'.\n",
    "      format(31, 'Jan', 'Mar', 'May', 'Jul', 'Aug', 'Oct', 'Dec'))\n",
    "\n",
    "# Re-using replacement field\n",
    "\n",
    "print('''   \n",
    "            January: {2}\n",
    "            February: {0}\n",
    "            March: {2}\n",
    "            April: {1}\n",
    "            May: {2}\n",
    "            June: {1}\n",
    "            July: {2}\n",
    "            August: {2}\n",
    "            September: {1}\n",
    "            October: {2}\n",
    "            November: {1}\n",
    "            December: {2}'''.format(28, 30, 31))\n",
    "\n",
    "# Formatting in Python 2 and earlier version, this will\n",
    "# be \"DEPRECATED\" in the future but often we can get Python 2\n",
    "# code that needs to be converted to Python so these lines of\n",
    "# code will help us understand how it was done earlier"
   ]
  },
  {
   "cell_type": "code",
   "execution_count": 5,
   "metadata": {},
   "outputs": [
    {
     "name": "stdout",
     "output_type": "stream",
     "text": [
      "********************\n",
      "My age is 29 years\n",
      "My age is 29 years,6 months\n",
      "********************\n",
      "Nos.  1 Squared is   1 and Cubed is   1\n",
      "Nos.  2 Squared is   4 and Cubed is   8\n",
      "Nos.  3 Squared is   9 and Cubed is  27\n",
      "Nos.  4 Squared is  16 and Cubed is  64\n",
      "Nos.  5 Squared is  25 and Cubed is 125\n",
      "Nos.  6 Squared is  36 and Cubed is 216\n",
      "Nos.  7 Squared is  49 and Cubed is 343\n",
      "Nos.  8 Squared is  64 and Cubed is 512\n",
      "Nos.  9 Squared is  81 and Cubed is 729\n",
      "Nos. 10 Squared is 100 and Cubed is 1000\n",
      "Nos. 11 Squared is 121 and Cubed is 1331\n",
      "********************\n",
      "Nos.  1 Squared is 1    and Cubed is 1   \n",
      "Nos.  2 Squared is 4    and Cubed is 8   \n",
      "Nos.  3 Squared is 9    and Cubed is 27  \n",
      "Nos.  4 Squared is 16   and Cubed is 64  \n",
      "Nos.  5 Squared is 25   and Cubed is 125 \n",
      "Nos.  6 Squared is 36   and Cubed is 216 \n",
      "Nos.  7 Squared is 49   and Cubed is 343 \n",
      "Nos.  8 Squared is 64   and Cubed is 512 \n",
      "Nos.  9 Squared is 81   and Cubed is 729 \n",
      "Nos. 10 Squared is 100  and Cubed is 1000\n",
      "Nos. 11 Squared is 121  and Cubed is 1331\n",
      "********************\n",
      "Nos. 1 Squared is 1 and Cubed is    1\n",
      "Nos. 2 Squared is 4 and Cubed is    8\n",
      "Nos. 3 Squared is 9 and Cubed is   27\n",
      "Nos. 4 Squared is 16 and Cubed is   64\n",
      "Nos. 5 Squared is 25 and Cubed is  125\n",
      "Nos. 6 Squared is 36 and Cubed is  216\n",
      "Nos. 7 Squared is 49 and Cubed is  343\n",
      "Nos. 8 Squared is 64 and Cubed is  512\n",
      "Nos. 9 Squared is 81 and Cubed is  729\n",
      "Nos. 10 Squared is 100 and Cubed is 1000\n",
      "Nos. 11 Squared is 121 and Cubed is 1331\n"
     ]
    }
   ],
   "source": [
    "a11()\n",
    "print('My age is %d years' % age)  # % age converts age into String\n",
    "print('My age is %d %s,%d %s' % (age, 'years', 6, 'months'))  # %d stands for Integer & %s stands for String\n",
    "\n",
    "a11()\n",
    "for i in range(1, 12):\n",
    "    print('Nos. %2d Squared is %3d and Cubed is %3d' % (i, i**2, i**3))\n",
    "\n",
    "a11()    \n",
    "# Doing the same with the new replacement field Syntax i.e in version Python 3\n",
    "for i in range(1, 12):\n",
    "    print('Nos. {0:2} Squared is {1:<4} and Cubed is {2:<4}'.format(i, i**2, i**3))\n",
    "\n",
    "# here {0:2} meant 0th index value in the format() and\n",
    "# 2 means 2 characters assigned for the result \n",
    "# < means left aligned\n",
    "\n",
    "a11()\n",
    "for i in range(1, 12):\n",
    "    print('Nos. {} Squared is {} and Cubed is {:4}'.format(i, i**2, i**3))\n",
    "\n",
    "# {} => automatically assumes the ascending index values inside the   format()"
   ]
  },
  {
   "cell_type": "code",
   "execution_count": 6,
   "metadata": {},
   "outputs": [
    {
     "name": "stdout",
     "output_type": "stream",
     "text": [
      "********************\n",
      "Pi value is 3.14285714285714279370154144999105483293533325195312\n",
      "Pi value is 3.1428571428571427937015414499910548329353332519531\n"
     ]
    }
   ],
   "source": [
    "a11()    \n",
    "print('Pi value is %1.50f' % (22 / 7))\n",
    "# %f stands for floating point and\n",
    "# 1.50 represents 1 character before and 50 characters\n",
    "# after the decimal\n",
    "\n",
    "# if any issue go to this link for more info\n",
    "#  https://docs.python.org/2.4/lib/typesseq-strings.html #####\n",
    "\n",
    "print('Pi value is {0:1.50}'.format(22 / 7))"
   ]
  }
 ],
 "metadata": {
  "kernelspec": {
   "display_name": "Python 3",
   "language": "python",
   "name": "python3"
  },
  "language_info": {
   "codemirror_mode": {
    "name": "ipython",
    "version": 3
   },
   "file_extension": ".py",
   "mimetype": "text/x-python",
   "name": "python",
   "nbconvert_exporter": "python",
   "pygments_lexer": "ipython3",
   "version": "3.6.4"
  }
 },
 "nbformat": 4,
 "nbformat_minor": 2
}
