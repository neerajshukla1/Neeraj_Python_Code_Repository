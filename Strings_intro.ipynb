{
 "cells": [
  {
   "cell_type": "code",
   "execution_count": 1,
   "metadata": {},
   "outputs": [],
   "source": [
    "def a11(): print('********************')"
   ]
  },
  {
   "cell_type": "code",
   "execution_count": 2,
   "metadata": {},
   "outputs": [
    {
     "name": "stdout",
     "output_type": "stream",
     "text": [
      "********************\n",
      "String / Sequence Data type =>\n",
      "N\n",
      "w\n",
      "e\n",
      "Norweg\n",
      " Blu\n",
      "Norweg\n",
      "ian Blue\n"
     ]
    }
   ],
   "source": [
    "a11()\n",
    "print('String / Sequence Data type =>')\n",
    "\n",
    "parrot = 'Norwegian Blue'\n",
    "\n",
    "print(parrot[0])\n",
    "print(parrot[3])\n",
    "print(parrot[-1])  # print last character\n",
    "print(parrot[0:6])  # print range\n",
    "print(parrot[-5:-1])  # print range (both have to be same sign)\n",
    "print(parrot[:6])  # print till index value mentioned from range\n",
    "print(parrot[6:])  # print from index value mentioned from range"
   ]
  },
  {
   "cell_type": "code",
   "execution_count": 3,
   "metadata": {},
   "outputs": [
    {
     "name": "stdout",
     "output_type": "stream",
     "text": [
      "********************\n",
      "printing Strings with steps=>\n",
      "Nre\n",
      "Nw\n",
      ",,,,,,\n",
      "123456789\n"
     ]
    }
   ],
   "source": [
    "a11()\n",
    "print('printing Strings with steps=>')\n",
    "print(parrot[0:6:2])  # print from index value mentioned till index value mentioned with steps of 2\n",
    "print(parrot[0:6:3])  # print from index value mentioned till index value mentioned with steps of 3\n",
    "\n",
    "number = \"9,223,372,036,854,775,807\"\n",
    "print(number[1::4])  # => ,,,,,,,\n",
    "\n",
    "numbers = \"1, 2, 3, 4, 5, 6, 7, 8, 9\"\n",
    "print(numbers[0::3])  # => 123456789"
   ]
  },
  {
   "cell_type": "code",
   "execution_count": 4,
   "metadata": {},
   "outputs": [
    {
     "name": "stdout",
     "output_type": "stream",
     "text": [
      "********************\n",
      "String and Number Mutiplication =>\n",
      "Hello Hello Hello Hello \n",
      "Hello Hello Hello Hello Hello Hello Hello Hello Hello \n",
      "Hello Hello Hello Hello 5\n"
     ]
    }
   ],
   "source": [
    "a11()\n",
    "print('String and Number Mutiplication =>')\n",
    "\n",
    "print(\"Hello \" * 4)  # will print Hello 4 times\n",
    "# print(\"Hello \" * 4 + 5)  # will not do anything as arithmetic calculation between string and number  is not allowed\n",
    "print(\"Hello \" * (4 + 5))   # will allow this since numbers are in parenthesis\n",
    "print(\"Hello \" * 4 + '5')  # will allow this since '5' is used as a string"
   ]
  },
  {
   "cell_type": "code",
   "execution_count": 5,
   "metadata": {},
   "outputs": [
    {
     "name": "stdout",
     "output_type": "stream",
     "text": [
      "********************\n",
      "Strings with \"in\" operator=>\n",
      "True\n",
      "True\n",
      "False\n",
      "False\n"
     ]
    }
   ],
   "source": [
    "a11()\n",
    "print('Strings with \"in\" operator=>')  # helps to find a substring in another string and it returns a Boolean value\n",
    "\n",
    "today = 'friday'\n",
    "print('fri' in today)\n",
    "print('day' in today)\n",
    "print('thurs' in today)\n",
    "print('fri' in 'parrot')"
   ]
  }
 ],
 "metadata": {
  "kernelspec": {
   "display_name": "Python 3",
   "language": "python",
   "name": "python3"
  },
  "language_info": {
   "codemirror_mode": {
    "name": "ipython",
    "version": 3
   },
   "file_extension": ".py",
   "mimetype": "text/x-python",
   "name": "python",
   "nbconvert_exporter": "python",
   "pygments_lexer": "ipython3",
   "version": "3.6.4"
  }
 },
 "nbformat": 4,
 "nbformat_minor": 2
}
